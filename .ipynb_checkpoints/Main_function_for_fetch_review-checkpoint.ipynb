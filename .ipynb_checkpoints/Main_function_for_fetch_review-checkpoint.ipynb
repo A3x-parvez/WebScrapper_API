{
 "cells": [
  {
   "cell_type": "code",
   "execution_count": 1,
   "id": "f7a9cb3b-30aa-47c2-9515-37590bf1a599",
   "metadata": {},
   "outputs": [],
   "source": [
    "import requests\n",
    "from bs4 import BeautifulSoup\n",
    "import pandas as pd"
   ]
  },
  {
   "cell_type": "markdown",
   "id": "42860b31-9e9e-4e57-a87c-b8ffa3a10b25",
   "metadata": {},
   "source": [
    "# Where the Main and sub Review are present"
   ]
  },
  {
   "cell_type": "code",
   "execution_count": 4,
   "id": "6b8351d1-d5b9-4eae-9b0d-1bab545f3bca",
   "metadata": {},
   "outputs": [],
   "source": [
    "def fetch_reviews_multiple(url, start=1, end=20):\n",
    "    reviews_list = []\n",
    "\n",
    "    for i in range(start, end + 1):\n",
    "        url_page = f\"{url}&page={i}\"\n",
    "        response = requests.get(url_page)\n",
    "        soup = BeautifulSoup(response.content, 'html.parser')\n",
    "        \n",
    "        reviews_container = soup.find_all(\"div\", class_=\"cPHDOP col-12-12\")\n",
    "        if not reviews_container:\n",
    "            continue  # Skip pages with no reviews\n",
    "\n",
    "        review_divs = soup.find_all(\"div\", class_=\"ZmyHeo\")\n",
    "        for div in review_divs:\n",
    "            review_text = div.div.text.strip()\n",
    "            review_text = review_text.replace(\"READ MORE\",\"\")\n",
    "            reviews_list.append(review_text)\n",
    "            \n",
    "    return pd.DataFrame({'review': reviews_list})"
   ]
  },
  {
   "cell_type": "markdown",
   "id": "00abcbaf-e13c-4da9-8bc3-db7612412a8b",
   "metadata": {},
   "source": [
    "# Where the Single Review is present"
   ]
  },
  {
   "cell_type": "code",
   "execution_count": 9,
   "id": "c63006a7-d3be-4b5c-ab0a-b06b6fe671b1",
   "metadata": {},
   "outputs": [],
   "source": [
    "def fetch_reviews_single(url, start=1, end=20):\n",
    "    reviews_list = []\n",
    "\n",
    "    for i in range(start, end + 1):\n",
    "        url_page = f\"{url}&page={i}\"\n",
    "        response = requests.get(url_page)\n",
    "        soup = BeautifulSoup(response.content, 'html.parser')\n",
    "        \n",
    "        reviews_container = soup.find_all(\"div\", class_=\"ZmyHeo MDcJkH\")\n",
    "        if not reviews_container:\n",
    "            continue  # Skip pages with no reviews\n",
    "\n",
    "        review_divs = soup.find_all(\"div\", class_=\"_11pzQk\")\n",
    "        for div in review_divs:\n",
    "            # review_text = div.div.text.strip()\n",
    "            review_text = div.get_text(strip=True)\n",
    "            review_text = review_text.replace(\"READ MORE\",\"\")\n",
    "            reviews_list.append(review_text)\n",
    "            \n",
    "    return pd.DataFrame({'review': reviews_list})"
   ]
  },
  {
   "cell_type": "markdown",
   "id": "e5cee9bf-304f-452d-9897-b225cab6f2aa",
   "metadata": {},
   "source": [
    "# Final function"
   ]
  },
  {
   "cell_type": "code",
   "execution_count": 12,
   "id": "608216f5-ed70-4feb-8b4f-8f2330d327e0",
   "metadata": {},
   "outputs": [],
   "source": [
    "def Fetch_Review(url,Type='multiple'):\n",
    "    df_final = pd.DataFrame()\n",
    "    if Type == 'single':\n",
    "            df1 = fetch_reviews_single(url)\n",
    "            df_final = df1\n",
    "    if Type == 'multiple':\n",
    "            df2 = fetch_reviews_multiple(url)\n",
    "            df_final = df2\n",
    "    return df_final"
   ]
  },
  {
   "cell_type": "markdown",
   "id": "94780a1a-9177-42e9-b0c8-6cb3f126f5a1",
   "metadata": {},
   "source": [
    "# user input which show in frontend"
   ]
  },
  {
   "cell_type": "code",
   "execution_count": 23,
   "id": "fa24f9ef-1249-418e-9091-7a122d9021db",
   "metadata": {},
   "outputs": [
    {
     "name": "stdin",
     "output_type": "stream",
     "text": [
      "Enter link :  https://www.flipkart.com/boat-airdopes-alpha-35-hrs-playback-13mm-drivers-dual-mics-enx-beast-mode-bluetooth/product-reviews/itm1181f915b81ec?pid=ACCGP2HJA3HKHTF4&lid=LSTACCGP2HJA3HKHTF4VDDILL&marketplace=FLIPKART\n"
     ]
    }
   ],
   "source": [
    "url = input(\"Enter link :\")\n",
    "dff = Fetch_Review(url,Type='multiple')"
   ]
  },
  {
   "cell_type": "code",
   "execution_count": 25,
   "id": "7cf301e9-e59a-44d3-a028-27436e8ec6f8",
   "metadata": {},
   "outputs": [
    {
     "data": {
      "text/html": [
       "<div>\n",
       "<style scoped>\n",
       "    .dataframe tbody tr th:only-of-type {\n",
       "        vertical-align: middle;\n",
       "    }\n",
       "\n",
       "    .dataframe tbody tr th {\n",
       "        vertical-align: top;\n",
       "    }\n",
       "\n",
       "    .dataframe thead th {\n",
       "        text-align: right;\n",
       "    }\n",
       "</style>\n",
       "<table border=\"1\" class=\"dataframe\">\n",
       "  <thead>\n",
       "    <tr style=\"text-align: right;\">\n",
       "      <th></th>\n",
       "      <th>review</th>\n",
       "    </tr>\n",
       "  </thead>\n",
       "  <tbody>\n",
       "    <tr>\n",
       "      <th>0</th>\n",
       "      <td>After a few days of use, Airdopes will be auto...</td>\n",
       "    </tr>\n",
       "    <tr>\n",
       "      <th>1</th>\n",
       "      <td>Three things to say about Alpha..- value for m...</td>\n",
       "    </tr>\n",
       "    <tr>\n",
       "      <th>2</th>\n",
       "      <td>This product is amazing , sound quality impres...</td>\n",
       "    </tr>\n",
       "    <tr>\n",
       "      <th>3</th>\n",
       "      <td>Value For Money Product High Bass High Battery...</td>\n",
       "    </tr>\n",
       "    <tr>\n",
       "      <th>4</th>\n",
       "      <td>Nice quality 👍👍👍👍</td>\n",
       "    </tr>\n",
       "    <tr>\n",
       "      <th>...</th>\n",
       "      <td>...</td>\n",
       "    </tr>\n",
       "    <tr>\n",
       "      <th>113</th>\n",
       "      <td>Best earpods on this segment.The sound quality...</td>\n",
       "    </tr>\n",
       "    <tr>\n",
       "      <th>114</th>\n",
       "      <td>Compact size easy to carry</td>\n",
       "    </tr>\n",
       "    <tr>\n",
       "      <th>115</th>\n",
       "      <td>The sound quality is very good and noise cance...</td>\n",
       "    </tr>\n",
       "    <tr>\n",
       "      <th>116</th>\n",
       "      <td>Best airdopes from Boat. Good sound quality. g...</td>\n",
       "    </tr>\n",
       "    <tr>\n",
       "      <th>117</th>\n",
       "      <td>Nice bass, gives sound proof music, loved the ...</td>\n",
       "    </tr>\n",
       "  </tbody>\n",
       "</table>\n",
       "<p>118 rows × 1 columns</p>\n",
       "</div>"
      ],
      "text/plain": [
       "                                                review\n",
       "0    After a few days of use, Airdopes will be auto...\n",
       "1    Three things to say about Alpha..- value for m...\n",
       "2    This product is amazing , sound quality impres...\n",
       "3    Value For Money Product High Bass High Battery...\n",
       "4                                    Nice quality 👍👍👍👍\n",
       "..                                                 ...\n",
       "113  Best earpods on this segment.The sound quality...\n",
       "114                         Compact size easy to carry\n",
       "115  The sound quality is very good and noise cance...\n",
       "116  Best airdopes from Boat. Good sound quality. g...\n",
       "117  Nice bass, gives sound proof music, loved the ...\n",
       "\n",
       "[118 rows x 1 columns]"
      ]
     },
     "execution_count": 25,
     "metadata": {},
     "output_type": "execute_result"
    }
   ],
   "source": [
    "dff"
   ]
  },
  {
   "cell_type": "code",
   "execution_count": null,
   "id": "28f7d597-00ce-447a-84c1-84ea8070e179",
   "metadata": {},
   "outputs": [],
   "source": []
  }
 ],
 "metadata": {
  "kernelspec": {
   "display_name": "Python [conda env:base] *",
   "language": "python",
   "name": "conda-base-py"
  },
  "language_info": {
   "codemirror_mode": {
    "name": "ipython",
    "version": 3
   },
   "file_extension": ".py",
   "mimetype": "text/x-python",
   "name": "python",
   "nbconvert_exporter": "python",
   "pygments_lexer": "ipython3",
   "version": "3.12.7"
  }
 },
 "nbformat": 4,
 "nbformat_minor": 5
}

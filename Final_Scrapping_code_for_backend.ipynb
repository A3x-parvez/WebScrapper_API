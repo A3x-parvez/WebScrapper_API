{
 "cells": [
  {
   "cell_type": "code",
   "execution_count": 5,
   "id": "1da56115-5fa7-435d-a575-2d0cce59bfac",
   "metadata": {},
   "outputs": [],
   "source": [
    "import requests\n",
    "from bs4 import BeautifulSoup\n",
    "import pandas as pd"
   ]
  },
  {
   "cell_type": "markdown",
   "id": "e80d08ac-eac9-4e17-95d7-fb50dd44c063",
   "metadata": {},
   "source": [
    "# Where the Main and sub Review are present"
   ]
  },
  {
   "cell_type": "code",
   "execution_count": 8,
   "id": "edc74b53-5420-4026-8599-609ce1da1f0d",
   "metadata": {},
   "outputs": [],
   "source": [
    "def fetch_reviews_multiple(url, start=1, end=20):\n",
    "    reviews_list = []\n",
    "\n",
    "    for i in range(start, end + 1):\n",
    "        url_page = f\"{url}&page={i}\"\n",
    "        response = requests.get(url_page)\n",
    "        soup = BeautifulSoup(response.content, 'html.parser')\n",
    "        \n",
    "        reviews_container = soup.find_all(\"div\", class_=\"cPHDOP col-12-12\")\n",
    "        if not reviews_container:\n",
    "            continue  # Skip pages with no reviews\n",
    "\n",
    "        review_divs = soup.find_all(\"div\", class_=\"ZmyHeo\")\n",
    "        for div in review_divs:\n",
    "            review_text = div.div.text.strip()\n",
    "            review_text = review_text.replace(\"READ MORE\",\"\")\n",
    "            reviews_list.append(review_text)\n",
    "            \n",
    "    return pd.DataFrame({'review': reviews_list})"
   ]
  },
  {
   "cell_type": "code",
   "execution_count": 314,
   "id": "da4e149a-0556-4802-b895-ca0034086d08",
   "metadata": {},
   "outputs": [
    {
     "name": "stdin",
     "output_type": "stream",
     "text": [
      "Enter link : https://www.flipkart.com/abros-boltflex-on-running-shoes-men/product-reviews/itm52df0a97b8ec4?pid=SHOH435TGHRVGBZG&lid=LSTSHOH435TGHRVGBZGIYHWAD&marketplace=FLIPKART\n"
     ]
    }
   ],
   "source": [
    "url = input(\"Enter link :\")\n",
    "df3 = fetch_reviews_multiple(url)"
   ]
  },
  {
   "cell_type": "code",
   "execution_count": 346,
   "id": "352fb0cf-2daa-4a79-94aa-23c31e1002c6",
   "metadata": {},
   "outputs": [
    {
     "data": {
      "text/html": [
       "<div>\n",
       "<style scoped>\n",
       "    .dataframe tbody tr th:only-of-type {\n",
       "        vertical-align: middle;\n",
       "    }\n",
       "\n",
       "    .dataframe tbody tr th {\n",
       "        vertical-align: top;\n",
       "    }\n",
       "\n",
       "    .dataframe thead th {\n",
       "        text-align: right;\n",
       "    }\n",
       "</style>\n",
       "<table border=\"1\" class=\"dataframe\">\n",
       "  <thead>\n",
       "    <tr style=\"text-align: right;\">\n",
       "      <th></th>\n",
       "      <th>review</th>\n",
       "    </tr>\n",
       "  </thead>\n",
       "  <tbody>\n",
       "    <tr>\n",
       "      <th>0</th>\n",
       "      <td>5Outstanding 🥰🥰🥰🥰</td>\n",
       "    </tr>\n",
       "    <tr>\n",
       "      <th>1</th>\n",
       "      <td>5Verrrrrrrrrryyyy good 👍</td>\n",
       "    </tr>\n",
       "    <tr>\n",
       "      <th>2</th>\n",
       "      <td>4I am giving this review after one week. After...</td>\n",
       "    </tr>\n",
       "    <tr>\n",
       "      <th>3</th>\n",
       "      <td>5Best quality Very good product Sole high quality</td>\n",
       "    </tr>\n",
       "    <tr>\n",
       "      <th>4</th>\n",
       "      <td>4Design and colours all are good Weight is a b...</td>\n",
       "    </tr>\n",
       "  </tbody>\n",
       "</table>\n",
       "</div>"
      ],
      "text/plain": [
       "                                              review\n",
       "0                                  5Outstanding 🥰🥰🥰🥰\n",
       "1                           5Verrrrrrrrrryyyy good 👍\n",
       "2  4I am giving this review after one week. After...\n",
       "3  5Best quality Very good product Sole high quality\n",
       "4  4Design and colours all are good Weight is a b..."
      ]
     },
     "execution_count": 346,
     "metadata": {},
     "output_type": "execute_result"
    }
   ],
   "source": [
    "df3.head()"
   ]
  },
  {
   "cell_type": "markdown",
   "id": "37625eed-3e41-4c4c-8be5-fa6813290263",
   "metadata": {},
   "source": [
    "# Where the Single Review is present"
   ]
  },
  {
   "cell_type": "code",
   "execution_count": 238,
   "id": "7b0c1293-a168-42e7-b39f-fc0feb627d49",
   "metadata": {},
   "outputs": [],
   "source": [
    "def fetch_reviews_single(url, start=1, end=20):\n",
    "    reviews_list = []\n",
    "\n",
    "    for i in range(start, end + 1):\n",
    "        url_page = f\"{url}&page={i}\"\n",
    "        response = requests.get(url_page)\n",
    "        soup = BeautifulSoup(response.content, 'html.parser')\n",
    "        \n",
    "        reviews_container = soup.find_all(\"div\", class_=\"ZmyHeo MDcJkH\")\n",
    "        if not reviews_container:\n",
    "            continue  # Skip pages with no reviews\n",
    "\n",
    "        review_divs = soup.find_all(\"div\", class_=\"_11pzQk\")\n",
    "        for div in review_divs:\n",
    "            # review_text = div.div.text.strip()\n",
    "            review_text = div.get_text(strip=True)\n",
    "            review_text = review_text.replace(\"READ MORE\",\"\")\n",
    "            reviews_list.append(review_text)\n",
    "            \n",
    "    return pd.DataFrame({'review': reviews_list})"
   ]
  },
  {
   "cell_type": "code",
   "execution_count": 328,
   "id": "5f884e11-c058-4c70-a336-3235627a0998",
   "metadata": {},
   "outputs": [
    {
     "name": "stdin",
     "output_type": "stream",
     "text": [
      "Enter link : https://www.flipkart.com/abros-boltflex-on-running-shoes-men/product-reviews/itm52df0a97b8ec4?pid=SHOH435TGHRVGBZG&lid=LSTSHOH435TGHRVGBZGIYHWAD&marketplace=FLIPKART\n"
     ]
    }
   ],
   "source": [
    "url = input(\"Enter link :\")\n",
    "df5 = fetch_reviews_single(url)"
   ]
  },
  {
   "cell_type": "code",
   "execution_count": 348,
   "id": "44330df9-9f11-49ab-b230-c1cabec85d6d",
   "metadata": {},
   "outputs": [
    {
     "data": {
      "text/html": [
       "<div>\n",
       "<style scoped>\n",
       "    .dataframe tbody tr th:only-of-type {\n",
       "        vertical-align: middle;\n",
       "    }\n",
       "\n",
       "    .dataframe tbody tr th {\n",
       "        vertical-align: top;\n",
       "    }\n",
       "\n",
       "    .dataframe thead th {\n",
       "        text-align: right;\n",
       "    }\n",
       "</style>\n",
       "<table border=\"1\" class=\"dataframe\">\n",
       "  <thead>\n",
       "    <tr style=\"text-align: right;\">\n",
       "      <th></th>\n",
       "      <th>review</th>\n",
       "    </tr>\n",
       "  </thead>\n",
       "  <tbody>\n",
       "    <tr>\n",
       "      <th>0</th>\n",
       "      <td>Outstanding 🥰🥰🥰🥰</td>\n",
       "    </tr>\n",
       "    <tr>\n",
       "      <th>1</th>\n",
       "      <td>Verrrrrrrrrryyyy good 👍</td>\n",
       "    </tr>\n",
       "    <tr>\n",
       "      <th>2</th>\n",
       "      <td>I am giving this review after one week. After ...</td>\n",
       "    </tr>\n",
       "    <tr>\n",
       "      <th>3</th>\n",
       "      <td>Best quality Very good productSole high quality</td>\n",
       "    </tr>\n",
       "    <tr>\n",
       "      <th>4</th>\n",
       "      <td>Design and colours all are good Weight is a bi...</td>\n",
       "    </tr>\n",
       "  </tbody>\n",
       "</table>\n",
       "</div>"
      ],
      "text/plain": [
       "                                              review\n",
       "0                                   Outstanding 🥰🥰🥰🥰\n",
       "1                            Verrrrrrrrrryyyy good 👍\n",
       "2  I am giving this review after one week. After ...\n",
       "3    Best quality Very good productSole high quality\n",
       "4  Design and colours all are good Weight is a bi..."
      ]
     },
     "execution_count": 348,
     "metadata": {},
     "output_type": "execute_result"
    }
   ],
   "source": [
    "df5.head()"
   ]
  },
  {
   "cell_type": "code",
   "execution_count": 159,
   "id": "19747591-363a-4f16-a290-2d1dcee6372d",
   "metadata": {},
   "outputs": [],
   "source": [
    "pd.set_option(\"display.max_columns\",None)\n",
    "pd.set_option(\"display.max_rows\",None)"
   ]
  },
  {
   "cell_type": "markdown",
   "id": "a2a43d35-25ab-4469-94a6-efb2e8a4cdc3",
   "metadata": {},
   "source": [
    "# Final function"
   ]
  },
  {
   "cell_type": "code",
   "execution_count": 334,
   "id": "869dddc1-7ebd-4129-95eb-5936a7059db1",
   "metadata": {},
   "outputs": [],
   "source": [
    "def Fetch_Review(url,Type='multiple'):\n",
    "    df_final = pd.DataFrame()\n",
    "    if Type == 'single':\n",
    "            df1 = fetch_reviews_single(url)\n",
    "            df_final = df1\n",
    "    if Type == 'multiple':\n",
    "            df2 = fetch_reviews_multiple(url)\n",
    "            df_final = df2\n",
    "    return df_final"
   ]
  },
  {
   "cell_type": "code",
   "execution_count": 340,
   "id": "590b7c66-92e1-4d13-95f3-da23915fdedc",
   "metadata": {},
   "outputs": [
    {
     "name": "stdin",
     "output_type": "stream",
     "text": [
      "Enter link : https://www.flipkart.com/boat-airdopes-alpha-35-hrs-playback-13mm-drivers-dual-mics-enx-beast-mode-bluetooth/product-reviews/itm1181f915b81ec?pid=ACCGP2HJA3HKHTF4&lid=LSTACCGP2HJA3HKHTF4VDDILL&marketplace=FLIPKART\n"
     ]
    }
   ],
   "source": [
    "url = input(\"Enter link :\")\n",
    "dff = Fetch_Review(url,'multiple')"
   ]
  },
  {
   "cell_type": "code",
   "execution_count": 3,
   "id": "83f8f3e4-b9ef-4a38-9691-d495986a2efe",
   "metadata": {},
   "outputs": [
    {
     "ename": "NameError",
     "evalue": "name 'dff' is not defined",
     "output_type": "error",
     "traceback": [
      "\u001b[1;31m---------------------------------------------------------------------------\u001b[0m",
      "\u001b[1;31mNameError\u001b[0m                                 Traceback (most recent call last)",
      "Cell \u001b[1;32mIn[3], line 1\u001b[0m\n\u001b[1;32m----> 1\u001b[0m dff\u001b[38;5;241m.\u001b[39msample(\u001b[38;5;241m20\u001b[39m)\n",
      "\u001b[1;31mNameError\u001b[0m: name 'dff' is not defined"
     ]
    }
   ],
   "source": [
    "dff.sample(20)"
   ]
  },
  {
   "cell_type": "code",
   "execution_count": 1,
   "id": "7a358f79-62bb-4897-b75d-46319fa2a214",
   "metadata": {},
   "outputs": [
    {
     "ename": "NameError",
     "evalue": "name 'dff' is not defined",
     "output_type": "error",
     "traceback": [
      "\u001b[1;31m---------------------------------------------------------------------------\u001b[0m",
      "\u001b[1;31mNameError\u001b[0m                                 Traceback (most recent call last)",
      "Cell \u001b[1;32mIn[1], line 1\u001b[0m\n\u001b[1;32m----> 1\u001b[0m dff\n",
      "\u001b[1;31mNameError\u001b[0m: name 'dff' is not defined"
     ]
    }
   ],
   "source": [
    "dff"
   ]
  },
  {
   "cell_type": "code",
   "execution_count": null,
   "id": "9bc61fe7-655d-4dac-938d-efedf54de07f",
   "metadata": {},
   "outputs": [],
   "source": []
  }
 ],
 "metadata": {
  "kernelspec": {
   "display_name": "Python [conda env:base] *",
   "language": "python",
   "name": "conda-base-py"
  },
  "language_info": {
   "codemirror_mode": {
    "name": "ipython",
    "version": 3
   },
   "file_extension": ".py",
   "mimetype": "text/x-python",
   "name": "python",
   "nbconvert_exporter": "python",
   "pygments_lexer": "ipython3",
   "version": "3.12.7"
  }
 },
 "nbformat": 4,
 "nbformat_minor": 5
}

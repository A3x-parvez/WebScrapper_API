{
 "cells": [
  {
   "cell_type": "code",
   "execution_count": 29,
   "id": "70bfd45e-8e70-4f88-9a60-57ae74f2a2df",
   "metadata": {},
   "outputs": [],
   "source": [
    "import requests\n",
    "from bs4 import BeautifulSoup\n",
    "import pandas as pd\n",
    "import re"
   ]
  },
  {
   "cell_type": "markdown",
   "id": "c501dc60-9884-4f30-8447-e5a14ca9ccac",
   "metadata": {},
   "source": [
    "# Where the Main and sub Review are present¶"
   ]
  },
  {
   "cell_type": "code",
   "execution_count": 8,
   "id": "5624a9bc-5650-4dfe-98a8-085e004fe03c",
   "metadata": {},
   "outputs": [],
   "source": [
    "def fetch_reviews_multiple(url, start=1, end=20):\n",
    "    reviews_list = []\n",
    "\n",
    "    for i in range(start, end + 1):\n",
    "        try:\n",
    "            url_page = f\"{url}&page={i}\"\n",
    "            response = requests.get(url_page, timeout=10)\n",
    "            response.raise_for_status()  # Raise HTTPError for bad responses\n",
    "            \n",
    "            soup = BeautifulSoup(response.content, 'html.parser')\n",
    "            reviews_container = soup.find_all(\"div\", class_=\"cPHDOP col-12-12\")\n",
    "            if not reviews_container:\n",
    "                continue  # Skip pages with no reviews\n",
    "\n",
    "            review_divs = soup.find_all(\"div\", class_=\"ZmyHeo\")\n",
    "            for div in review_divs:\n",
    "                try:\n",
    "                    review_text = div.div.text.strip()\n",
    "                    review_text = review_text.replace(\"READ MORE\", \"\")\n",
    "                    reviews_list.append(review_text)\n",
    "                except AttributeError:\n",
    "                    continue  # Skip any malformed review elements\n",
    "\n",
    "        except requests.exceptions.RequestException as e:\n",
    "            print(f\"Error fetching page {i}: {e}\")\n",
    "            continue  # Skip this page and move to the next\n",
    "\n",
    "    return pd.DataFrame({'review': reviews_list})"
   ]
  },
  {
   "cell_type": "markdown",
   "id": "a047c149-4ddb-4e0f-9f1f-a2d4da7a9d16",
   "metadata": {},
   "source": [
    "# Where the Single Review is present"
   ]
  },
  {
   "cell_type": "code",
   "execution_count": 11,
   "id": "6e29514b-71e1-4de7-a3eb-642f1bcc7a5a",
   "metadata": {},
   "outputs": [],
   "source": [
    "def fetch_reviews_single(url, start=1, end=20):\n",
    "    reviews_list = []\n",
    "\n",
    "    for i in range(start, end + 1):\n",
    "        try:\n",
    "            url_page = f\"{url}&page={i}\"\n",
    "            response = requests.get(url_page, timeout=10)\n",
    "            response.raise_for_status()  # Raise HTTPError for bad responses\n",
    "\n",
    "            soup = BeautifulSoup(response.content, 'html.parser')\n",
    "            reviews_container = soup.find_all(\"div\", class_=\"ZmyHeo MDcJkH\")\n",
    "            if not reviews_container:\n",
    "                continue  # Skip pages with no reviews\n",
    "\n",
    "            review_divs = soup.find_all(\"div\", class_=\"_11pzQk\")\n",
    "            for div in review_divs:\n",
    "                try:\n",
    "                    review_text = div.get_text(strip=True)\n",
    "                    review_text = review_text.replace(\"READ MORE\", \"\")\n",
    "                    reviews_list.append(review_text)\n",
    "                except AttributeError:\n",
    "                    continue  # Skip any malformed review elements\n",
    "\n",
    "        except requests.exceptions.RequestException as e:\n",
    "            print(f\"Error fetching page {i}: {e}\")\n",
    "            continue  # Skip this page and move to the next\n",
    "\n",
    "    return pd.DataFrame({'review': reviews_list})"
   ]
  },
  {
   "cell_type": "markdown",
   "id": "97d37ce9-3b20-44b8-b061-8ce8f6cd29f4",
   "metadata": {},
   "source": [
    "# Final function for fetch reviews of the product this function internally call fetch_reviews_multiple and fetch_reviews_single based on the parameters"
   ]
  },
  {
   "cell_type": "code",
   "execution_count": 78,
   "id": "734a8ae7-4a87-4011-b7b8-e6e7a2f81868",
   "metadata": {},
   "outputs": [],
   "source": [
    "def Fetch_Review(url, Type='multiple'):\n",
    "    try:\n",
    "        # Check if URL is a valid string and starts with Flipkart's domain\n",
    "        if not isinstance(url, str) or not url.startswith(\"https://www.flipkart.com/\"):\n",
    "            return {\"error\": \"Invalid URL: Must be a valid Flipkart link.\"}  # Changed: Returning error instead of printing\n",
    "\n",
    "        # Ensure the URL follows the exact product review format\n",
    "        pattern = r\"^https://www\\.flipkart\\.com/[^/]+/product-reviews/[^/?]+(\\?.*)?$\"\n",
    "        if not re.match(pattern, url):\n",
    "            return {\"error\": \"Invalid URL: Only Flipkart product review links are allowed.\"}  # Changed: Returning error instead of printing\n",
    "\n",
    "        # Check if Type is valid\n",
    "        if Type == 'single':\n",
    "            df_final = fetch_reviews_single(url)\n",
    "        elif Type == 'multiple':\n",
    "            df_final = fetch_reviews_multiple(url)\n",
    "        else:\n",
    "            return {\"error\": \"Invalid Type specified. Use 'single' or 'multiple'.\"}  # Changed: Returning error instead of printing\n",
    "\n",
    "        return df_final  # No change: Returns the DataFrame normally if everything is correct\n",
    "\n",
    "    except Exception as e:\n",
    "        return {\"error\": f\"An unexpected error occurred: {e}\"}  # Changed: Returning error message instead of printing\n"
   ]
  },
  {
   "cell_type": "markdown",
   "id": "a9ed1fcf-2f85-4964-8159-470a1dbf526a",
   "metadata": {},
   "source": [
    "# user input which show in frontend"
   ]
  },
  {
   "cell_type": "code",
   "execution_count": 85,
   "id": "3b70529d-61cb-484b-b489-a6093431c97e",
   "metadata": {},
   "outputs": [
    {
     "name": "stdin",
     "output_type": "stream",
     "text": [
      "Enter link : https://www.flipkart.com/lotik-women-printed-purple-night-suit-set/product-reviews/itm7ca6ccf98850a?pid=NSTGWZQPZUGVVZWU&lid=LSTNSTGWZQPZUGVVZWULOZBHD&marketplace=FLIPKART\n"
     ]
    }
   ],
   "source": [
    "url = input(\"Enter link :\")\n",
    "dff = Fetch_Review(url,Type='single')"
   ]
  },
  {
   "cell_type": "code",
   "execution_count": 87,
   "id": "313d7fdb-07fe-4a5b-a122-9c473550b039",
   "metadata": {},
   "outputs": [
    {
     "data": {
      "text/html": [
       "<div>\n",
       "<style scoped>\n",
       "    .dataframe tbody tr th:only-of-type {\n",
       "        vertical-align: middle;\n",
       "    }\n",
       "\n",
       "    .dataframe tbody tr th {\n",
       "        vertical-align: top;\n",
       "    }\n",
       "\n",
       "    .dataframe thead th {\n",
       "        text-align: right;\n",
       "    }\n",
       "</style>\n",
       "<table border=\"1\" class=\"dataframe\">\n",
       "  <thead>\n",
       "    <tr style=\"text-align: right;\">\n",
       "      <th></th>\n",
       "      <th>review</th>\n",
       "    </tr>\n",
       "  </thead>\n",
       "  <tbody>\n",
       "    <tr>\n",
       "      <th>0</th>\n",
       "      <td>The quality of the material is too gud. I love...</td>\n",
       "    </tr>\n",
       "    <tr>\n",
       "      <th>1</th>\n",
       "      <td>Super Awesome!!! Very nice colour 💜💜</td>\n",
       "    </tr>\n",
       "    <tr>\n",
       "      <th>2</th>\n",
       "      <td>Superb... Stitching and clothe kwality is very...</td>\n",
       "    </tr>\n",
       "    <tr>\n",
       "      <th>3</th>\n",
       "      <td>Good fabric...Looks cool....  💯 worth.</td>\n",
       "    </tr>\n",
       "    <tr>\n",
       "      <th>4</th>\n",
       "      <td>Superb I loved it tq</td>\n",
       "    </tr>\n",
       "    <tr>\n",
       "      <th>5</th>\n",
       "      <td>Good quality</td>\n",
       "    </tr>\n",
       "    <tr>\n",
       "      <th>6</th>\n",
       "      <td>Good quality.. Its realy nice for daily wear..</td>\n",
       "    </tr>\n",
       "    <tr>\n",
       "      <th>7</th>\n",
       "      <td>The quality of this night suit is very good. T...</td>\n",
       "    </tr>\n",
       "    <tr>\n",
       "      <th>8</th>\n",
       "      <td>So happy so much happy thank u fkt</td>\n",
       "    </tr>\n",
       "    <tr>\n",
       "      <th>9</th>\n",
       "      <td>Very pretty and comfortable. Perfect size/ fit .</td>\n",
       "    </tr>\n",
       "    <tr>\n",
       "      <th>10</th>\n",
       "      <td>Good</td>\n",
       "    </tr>\n",
       "    <tr>\n",
       "      <th>11</th>\n",
       "      <td>Just awesome product you can go for this witho...</td>\n",
       "    </tr>\n",
       "    <tr>\n",
       "      <th>12</th>\n",
       "      <td>Good fabric</td>\n",
       "    </tr>\n",
       "    <tr>\n",
       "      <th>13</th>\n",
       "      <td>Nice product</td>\n",
       "    </tr>\n",
       "    <tr>\n",
       "      <th>14</th>\n",
       "      <td>Best product happy 😊😊😊😊😊</td>\n",
       "    </tr>\n",
       "    <tr>\n",
       "      <th>15</th>\n",
       "      <td>Good product</td>\n",
       "    </tr>\n",
       "  </tbody>\n",
       "</table>\n",
       "</div>"
      ],
      "text/plain": [
       "                                               review\n",
       "0   The quality of the material is too gud. I love...\n",
       "1                Super Awesome!!! Very nice colour 💜💜\n",
       "2   Superb... Stitching and clothe kwality is very...\n",
       "3              Good fabric...Looks cool....  💯 worth.\n",
       "4                                Superb I loved it tq\n",
       "5                                        Good quality\n",
       "6      Good quality.. Its realy nice for daily wear..\n",
       "7   The quality of this night suit is very good. T...\n",
       "8                  So happy so much happy thank u fkt\n",
       "9    Very pretty and comfortable. Perfect size/ fit .\n",
       "10                                               Good\n",
       "11  Just awesome product you can go for this witho...\n",
       "12                                        Good fabric\n",
       "13                                       Nice product\n",
       "14                           Best product happy 😊😊😊😊😊\n",
       "15                                       Good product"
      ]
     },
     "execution_count": 87,
     "metadata": {},
     "output_type": "execute_result"
    }
   ],
   "source": [
    "dff"
   ]
  },
  {
   "cell_type": "markdown",
   "id": "3c0a5599-50d6-438b-9d4f-ee0e42713364",
   "metadata": {},
   "source": [
    "# Part-2 : Check the sentiment of the reviews fetched in part 1"
   ]
  },
  {
   "cell_type": "code",
   "execution_count": 91,
   "id": "b0036dda-16da-4be4-b472-46dda6a85671",
   "metadata": {},
   "outputs": [],
   "source": [
    "from nltk.sentiment.vader import SentimentIntensityAnalyzer\n",
    "import nltk"
   ]
  },
  {
   "cell_type": "markdown",
   "id": "27b3dcfd-17a4-40b5-8e9c-a887097a1b1c",
   "metadata": {},
   "source": [
    "# The Sentiment_model function is replaced my the actual traied LSTM model "
   ]
  },
  {
   "cell_type": "code",
   "execution_count": 94,
   "id": "dcaa0017-49e1-4491-a0eb-7f2968e99d4f",
   "metadata": {},
   "outputs": [],
   "source": [
    "def sentiment_model(text):\n",
    "    sia = SentimentIntensityAnalyzer()\n",
    "    over_all_polarity = sia.polarity_scores(text)\n",
    "    if over_all_polarity['compound'] >= 0.05:\n",
    "        return \"positive\"\n",
    "    elif over_all_polarity['compound'] <= -0.05:\n",
    "        return \"negative\"\n",
    "    else:\n",
    "        return \"neutral\""
   ]
  },
  {
   "cell_type": "markdown",
   "id": "91ddde53-cab0-4e5b-9d23-b6a38bd96700",
   "metadata": {},
   "source": [
    "# This is the Function use in actual backend for check the polarity of the reviews"
   ]
  },
  {
   "cell_type": "code",
   "execution_count": 96,
   "id": "91a06adb-1a07-46cd-aee4-e7ec11cbbd3e",
   "metadata": {},
   "outputs": [],
   "source": [
    "def Check_sentiment(df):\n",
    "    try:\n",
    "        if not isinstance(df, pd.DataFrame):  # Ensure input is a DataFrame\n",
    "            return {\"error\": \"Invalid input: Expected a pandas DataFrame.\"}\n",
    "        \n",
    "        if 'review' not in df.columns:  # Check if 'review' column exists\n",
    "            return {\"error\": \"Missing column: DataFrame must contain a 'review' column.\"}\n",
    "        \n",
    "        if df.empty:  # Handle empty DataFrame\n",
    "            return {\"error\": \"Empty DataFrame: No reviews available for sentiment analysis.\"}\n",
    "\n",
    "        df_with_polarity = df.copy()\n",
    "        df_with_polarity['sentiment'] = df_with_polarity['review'].apply(sentiment_model)  # Apply sentiment analysis\n",
    "\n",
    "        return df_with_polarity\n",
    "\n",
    "    except Exception as e:\n",
    "        return {\"error\": f\"An unexpected error occurred: {e}\"}"
   ]
  },
  {
   "cell_type": "markdown",
   "id": "90d385bf-5972-4ed2-a93a-31b7c851658a",
   "metadata": {},
   "source": [
    "# Return final positive negative and neutral reviews for product in list format for show in frontend"
   ]
  },
  {
   "cell_type": "code",
   "execution_count": 100,
   "id": "22d9f572-d07e-4035-96cb-38cf233fd854",
   "metadata": {},
   "outputs": [],
   "source": [
    "def get_review_text(final_df):\n",
    "    try:\n",
    "        if not isinstance(final_df, pd.DataFrame):  # Ensure input is a DataFrame\n",
    "            return {\"error\": \"Invalid input: Expected a pandas DataFrame.\"}\n",
    "        \n",
    "        required_columns = {'sentiment', 'review'}\n",
    "        if not required_columns.issubset(final_df.columns):  # Check required columns\n",
    "            return {\"error\": \"Missing columns: DataFrame must contain 'review' and 'sentiment' columns.\"}\n",
    "        \n",
    "        if final_df.empty:  # Handle empty DataFrame\n",
    "            return {\"error\": \"Empty DataFrame: No reviews available.\"}\n",
    "\n",
    "        # Extract reviews based on sentiment\n",
    "        positive_reviews = final_df[final_df['sentiment'] == 'positive']['review'].tolist()\n",
    "        negative_reviews = final_df[final_df['sentiment'] == 'negative']['review'].tolist()\n",
    "        neutral_reviews = final_df[final_df['sentiment'] == 'neutral']['review'].tolist()  # Fixed typo \"neural\" → \"neutral\"\n",
    "\n",
    "        return positive_reviews, negative_reviews, neutral_reviews\n",
    "\n",
    "    except Exception as e:\n",
    "        return {\"error\": f\"An unexpected error occurred: {e}\"}\n"
   ]
  },
  {
   "cell_type": "markdown",
   "id": "0f31073e-1c51-4251-be30-a42d3c59b6d0",
   "metadata": {},
   "source": [
    "# Final product report"
   ]
  },
  {
   "cell_type": "code",
   "execution_count": 102,
   "id": "33faf132-3562-4403-b3b4-2e787adb5d53",
   "metadata": {},
   "outputs": [],
   "source": [
    "def sentiment_report(df):\n",
    "    try:\n",
    "        if not isinstance(df, pd.DataFrame):  # Ensure input is a DataFrame\n",
    "            return {\"error\": \"Invalid input: Expected a pandas DataFrame.\"}\n",
    "        \n",
    "        required_columns = {'sentiment'}\n",
    "        if not required_columns.issubset(df.columns):  # Check required columns\n",
    "            return {\"error\": \"Missing column: DataFrame must contain 'sentiment' column.\"}\n",
    "        \n",
    "        if df.empty:  # Handle empty DataFrame\n",
    "            return {\"error\": \"Empty DataFrame: No data available for sentiment analysis.\"}\n",
    "\n",
    "        final_report = df.copy()\n",
    "        total = final_report['sentiment'].shape[0]\n",
    "\n",
    "        # Avoid division by zero\n",
    "        if total == 0:\n",
    "            return {\"error\": \"No sentiment data found.\"}\n",
    "\n",
    "        positive = final_report[final_report['sentiment'] == 'positive'].shape[0]\n",
    "        negative = final_report[final_report['sentiment'] == 'negative'].shape[0]\n",
    "        neutral = final_report[final_report['sentiment'] == 'neutral'].shape[0]\n",
    "\n",
    "        # Calculate percentages safely\n",
    "        positive_percentage = (positive / total) * 100\n",
    "        negative_percentage = (negative / total) * 100\n",
    "        neutral_percentage = (neutral / total) * 100\n",
    "\n",
    "        return positive_percentage, negative_percentage, neutral_percentage\n",
    "\n",
    "    except Exception as e:\n",
    "        return {\"error\": f\"An unexpected error occurred: {e}\"}\n"
   ]
  },
  {
   "cell_type": "markdown",
   "id": "6c60dfff-ff07-4d0d-997a-7d0fb00c4532",
   "metadata": {},
   "source": [
    "# Work flow of the functions"
   ]
  },
  {
   "cell_type": "code",
   "execution_count": 109,
   "id": "ef08cbb4-d878-4d31-b62b-61e6f8629303",
   "metadata": {},
   "outputs": [
    {
     "name": "stdin",
     "output_type": "stream",
     "text": [
      "Enter link : https://www.flipkart.com/tibra-attire-women-kurti-pant-dupatta-set/product-reviews/itmd704d26fec72f?pid=ETHH7WDVSYXBMYKZ&lid=LSTETHH7WDVSYXBMYKZOQBV7N&marketplace=FLIPKART\n"
     ]
    },
    {
     "name": "stdout",
     "output_type": "stream",
     "text": [
      "positive_list :  ['Very nice and beautiful dress, go for it', 'Very nice 💯I am so happy 😊', 'Thank you Flipkart☺️', 'Very nice suit and the fitting is too good', 'Love it 😍', 'Thanks Flipkart for Lovely set☺️', 'Nice product', 'Loved this product. Thank you', 'Very good quality of dress . l love it .Thanks Filpkart', 'Good', 'Wonderful 👍😊 loved it😍😍', 'Good product 👍 thanks 🙏', 'Good product so happy 😍', 'Very nice 👍🏻', 'The fit was perfect for me!! Overall quality and everything is good and worth for the price so go for it.', 'Nice Product', 'I really liked this dress.', \"Really I'm happy for this product I like this colour valuable product go for it I order one more dress\", 'Good product please go for it cloth quality and comfortable design everything is good 💯😊', 'Very beautiful, as expected I love it', 'Value for Money 👌 Good Product And QwalityRecommended This Product .', 'Very nice product,good quality', 'Good', 'Excellent product and  colour... quality is also good', 'Super prod', 'Superb quality fabrics', 'Awesome', 'Good product', 'Good quality', 'Good 😊', 'Perfect dress perfect kapda nice design I love it ☺️', 'Very nice Dress. Material stitching everything is so nice. Perfect for party and formal too.', 'Good', 'Very nice product.... Quality best', 'Just wow 😲🤩 i love❤ it  ....', 'Good quality', 'Awesome..❤️❤️Go for it !!highly recommended 🥰😘', 'Product is very good', 'Thank you Flipkart nice product 😊', 'Very beautiful and the fabric is very soft .I love it ....🥰', 'Very very good quality product.just awesome.. I am full satisfied ❤️', \"Wonderful piece of readymade suit, I gifted it' to my sister in law and she's very happy after wearing this suit.. Thank you Flipkart\", 'Febric is too good 👍 and looking very nice 🙂 I am happy 😁', 'Good Product with best quality. Perfect size.', \"It's too good\", 'Good product must buy', 'Nice woman kurti pant dupatta', 'Very Nice Quality', 'Very good 👍 product', 'Good 💯', 'Very good products. Material are goods and fantastic. This price very effective.', 'Very good', 'Very good', 'Good product', 'Nice kurti set  same as image cloth is soft and comfortable thanks', 'Thank u Flipkart 😊🤍', 'Good product', 'Beautiful dress👍👍👍👍', 'Super fittingNice colour 🖤 must try', 'Good 😊👍', 'The kurta set is very good but color is only dull .Fabric quality is also good. 👌👌', 'Wonderful excellent', 'Perfect quality.....', 'Nice product love it', 'Nice product', 'Very good 👍👍👍 ...', 'Beautiful', 'Nice fabric quality with perfect fit', 'Very nice Quality product. Value for money', 'nice one bought for my sister', 'Spr. Dress comfortable... love it', 'Very very nice thanku so much I am so happy qoulity feb', 'Good product', 'Very good product, Thank u Flipkart 🙏🫰😍', \"It's so good ..........must buy it\", 'Wow super kurti paint duptta  beautiful 😍😍😍Nice 👍', 'The clothes have arrived very nice, thank you. Flipkart', 'Very nice dress with good material and fitting.Perfect for party and office.', 'Good product', 'Good', \"It's quality is too good👍 😊I like it 😁\", 'Very good quality', 'Very nice 🙂', 'Everything is so good about thisA must buy product.', 'Very nice product thanks flipkart', 'Nice product', 'Very nice 👍', 'Ok ok type', 'Good product', 'Good', 'Very good', 'Very good'] \n",
      "negative_list :  ['Dress is good but colour in bad', 'Fabric , fitting is good but color is very dull compared to picture', 'Poor quality product'] \n",
      "neutral_list : ['This kurti is veri nice.buy it', 'Product is good👍👍', 'Woowww', 'Worthful', 'L size pent is very small']\n",
      "positive_pers :  92.0 \n",
      "negative_pers :  3.0 \n",
      "neutral_pers : 5.0\n"
     ]
    }
   ],
   "source": [
    "# Fetch the reviews \n",
    "url = input(\"Enter link :\")\n",
    "dff = Fetch_Review(url,Type='single')\n",
    "# check the sentiments\n",
    "final_df = Check_sentiment(dff)\n",
    "# get the positive , negative,neutral reviews as a list\n",
    "positive_list,negative_list,neutral_list = get_review_text(final_df)\n",
    "# get the final report positive , negative,neutral percentage\n",
    "positive_pers,negative_pers,neutral_pers = sentiment_report(final_df)\n",
    "\n",
    "print(\"positive_list : \",positive_list,\"\\nnegative_list : \",negative_list,\"\\nneutral_list :\",neutral_list)\n",
    "print(\"positive_pers : \",positive_pers,\"\\nnegative_pers : \",negative_pers,\"\\nneutral_pers :\",neutral_pers)"
   ]
  },
  {
   "cell_type": "code",
   "execution_count": null,
   "id": "6b03c8fa-6d31-4aa7-9531-3adb7fa24565",
   "metadata": {},
   "outputs": [],
   "source": []
  }
 ],
 "metadata": {
  "kernelspec": {
   "display_name": "Python [conda env:base] *",
   "language": "python",
   "name": "conda-base-py"
  },
  "language_info": {
   "codemirror_mode": {
    "name": "ipython",
    "version": 3
   },
   "file_extension": ".py",
   "mimetype": "text/x-python",
   "name": "python",
   "nbconvert_exporter": "python",
   "pygments_lexer": "ipython3",
   "version": "3.12.7"
  }
 },
 "nbformat": 4,
 "nbformat_minor": 5
}

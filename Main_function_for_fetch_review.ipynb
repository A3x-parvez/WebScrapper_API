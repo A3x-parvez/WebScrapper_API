{
 "cells": [
  {
   "cell_type": "markdown",
   "id": "b362e655-2ca6-4fd3-8380-b7a4b32da958",
   "metadata": {},
   "source": [
    "# Part-1 : Fetch the reviews of the product provided by the user"
   ]
  },
  {
   "cell_type": "code",
   "execution_count": 1,
   "id": "f7a9cb3b-30aa-47c2-9515-37590bf1a599",
   "metadata": {},
   "outputs": [],
   "source": [
    "import requests\n",
    "from bs4 import BeautifulSoup\n",
    "import pandas as pd"
   ]
  },
  {
   "cell_type": "markdown",
   "id": "42860b31-9e9e-4e57-a87c-b8ffa3a10b25",
   "metadata": {},
   "source": [
    "# Where the Main and sub Review are present"
   ]
  },
  {
   "cell_type": "code",
   "execution_count": 4,
   "id": "6b8351d1-d5b9-4eae-9b0d-1bab545f3bca",
   "metadata": {},
   "outputs": [],
   "source": [
    "def fetch_reviews_multiple(url, start=1, end=20):\n",
    "    reviews_list = []\n",
    "\n",
    "    for i in range(start, end + 1):\n",
    "        url_page = f\"{url}&page={i}\"\n",
    "        response = requests.get(url_page)\n",
    "        soup = BeautifulSoup(response.content, 'html.parser')\n",
    "        \n",
    "        reviews_container = soup.find_all(\"div\", class_=\"cPHDOP col-12-12\")\n",
    "        if not reviews_container:\n",
    "            continue  # Skip pages with no reviews\n",
    "\n",
    "        review_divs = soup.find_all(\"div\", class_=\"ZmyHeo\")\n",
    "        for div in review_divs:\n",
    "            review_text = div.div.text.strip()\n",
    "            review_text = review_text.replace(\"READ MORE\",\"\")\n",
    "            reviews_list.append(review_text)\n",
    "            \n",
    "    return pd.DataFrame({'review': reviews_list})"
   ]
  },
  {
   "cell_type": "markdown",
   "id": "00abcbaf-e13c-4da9-8bc3-db7612412a8b",
   "metadata": {},
   "source": [
    "# Where the Single Review is present"
   ]
  },
  {
   "cell_type": "code",
   "execution_count": 7,
   "id": "c63006a7-d3be-4b5c-ab0a-b06b6fe671b1",
   "metadata": {},
   "outputs": [],
   "source": [
    "def fetch_reviews_single(url, start=1, end=20):\n",
    "    reviews_list = []\n",
    "\n",
    "    for i in range(start, end + 1):\n",
    "        url_page = f\"{url}&page={i}\"\n",
    "        response = requests.get(url_page)\n",
    "        soup = BeautifulSoup(response.content, 'html.parser')\n",
    "        \n",
    "        reviews_container = soup.find_all(\"div\", class_=\"ZmyHeo MDcJkH\")\n",
    "        if not reviews_container:\n",
    "            continue  # Skip pages with no reviews\n",
    "\n",
    "        review_divs = soup.find_all(\"div\", class_=\"_11pzQk\")\n",
    "        for div in review_divs:\n",
    "            # review_text = div.div.text.strip()\n",
    "            review_text = div.get_text(strip=True)\n",
    "            review_text = review_text.replace(\"READ MORE\",\"\")\n",
    "            reviews_list.append(review_text)\n",
    "            \n",
    "    return pd.DataFrame({'review': reviews_list})"
   ]
  },
  {
   "cell_type": "markdown",
   "id": "e5cee9bf-304f-452d-9897-b225cab6f2aa",
   "metadata": {},
   "source": [
    "# Final function"
   ]
  },
  {
   "cell_type": "code",
   "execution_count": 93,
   "id": "608216f5-ed70-4feb-8b4f-8f2330d327e0",
   "metadata": {},
   "outputs": [],
   "source": [
    "def Fetch_Review(url,Type='multiple'):\n",
    "    df_final = pd.DataFrame()\n",
    "    if Type == 'single':\n",
    "            df1 = fetch_reviews_single(url)\n",
    "            df_final = df1\n",
    "    elif Type == 'multiple':\n",
    "            df2 = fetch_reviews_multiple(url)\n",
    "            df_final = df2\n",
    "    else:\n",
    "        print('wrong type')\n",
    "    return df_final"
   ]
  },
  {
   "cell_type": "markdown",
   "id": "94780a1a-9177-42e9-b0c8-6cb3f126f5a1",
   "metadata": {},
   "source": [
    "# user input which show in frontend"
   ]
  },
  {
   "cell_type": "code",
   "execution_count": 117,
   "id": "fa24f9ef-1249-418e-9091-7a122d9021db",
   "metadata": {},
   "outputs": [
    {
     "name": "stdin",
     "output_type": "stream",
     "text": [
      "Enter link : https://www.flipkart.com/imsa-moda-lingerie-set/product-reviews/itmc76d7e675de15?pid=LINGNY8ZJUBE58SN&lid=LSTLINGNY8ZJUBE58SNDBLQMD&marketplace=FLIPKART\n"
     ]
    }
   ],
   "source": [
    "url = input(\"Enter link :\")\n",
    "dff = Fetch_Review(url,Type='single')"
   ]
  },
  {
   "cell_type": "code",
   "execution_count": 119,
   "id": "7cf301e9-e59a-44d3-a028-27436e8ec6f8",
   "metadata": {},
   "outputs": [
    {
     "data": {
      "text/html": [
       "<div>\n",
       "<style scoped>\n",
       "    .dataframe tbody tr th:only-of-type {\n",
       "        vertical-align: middle;\n",
       "    }\n",
       "\n",
       "    .dataframe tbody tr th {\n",
       "        vertical-align: top;\n",
       "    }\n",
       "\n",
       "    .dataframe thead th {\n",
       "        text-align: right;\n",
       "    }\n",
       "</style>\n",
       "<table border=\"1\" class=\"dataframe\">\n",
       "  <thead>\n",
       "    <tr style=\"text-align: right;\">\n",
       "      <th></th>\n",
       "      <th>review</th>\n",
       "    </tr>\n",
       "  </thead>\n",
       "  <tbody>\n",
       "    <tr>\n",
       "      <th>0</th>\n",
       "      <td>Nice pic 😍☺️</td>\n",
       "    </tr>\n",
       "    <tr>\n",
       "      <th>1</th>\n",
       "      <td>Absolutely made gorgeous, my jiju loves me in it.</td>\n",
       "    </tr>\n",
       "    <tr>\n",
       "      <th>2</th>\n",
       "      <td>Good product</td>\n",
       "    </tr>\n",
       "    <tr>\n",
       "      <th>3</th>\n",
       "      <td>Awesome product 🔥🔥</td>\n",
       "    </tr>\n",
       "    <tr>\n",
       "      <th>4</th>\n",
       "      <td>Not good.. size and colour is good. Bra qualit...</td>\n",
       "    </tr>\n",
       "    <tr>\n",
       "      <th>...</th>\n",
       "      <td>...</td>\n",
       "    </tr>\n",
       "    <tr>\n",
       "      <th>75</th>\n",
       "      <td>Atcha hai but if you have heavy breast then it...</td>\n",
       "    </tr>\n",
       "    <tr>\n",
       "      <th>76</th>\n",
       "      <td>Nice product</td>\n",
       "    </tr>\n",
       "    <tr>\n",
       "      <th>77</th>\n",
       "      <td>Ok ok</td>\n",
       "    </tr>\n",
       "    <tr>\n",
       "      <th>78</th>\n",
       "      <td>Good</td>\n",
       "    </tr>\n",
       "    <tr>\n",
       "      <th>79</th>\n",
       "      <td>Panty Size Is Too Short</td>\n",
       "    </tr>\n",
       "  </tbody>\n",
       "</table>\n",
       "<p>80 rows × 1 columns</p>\n",
       "</div>"
      ],
      "text/plain": [
       "                                               review\n",
       "0                                        Nice pic 😍☺️\n",
       "1   Absolutely made gorgeous, my jiju loves me in it.\n",
       "2                                        Good product\n",
       "3                                  Awesome product 🔥🔥\n",
       "4   Not good.. size and colour is good. Bra qualit...\n",
       "..                                                ...\n",
       "75  Atcha hai but if you have heavy breast then it...\n",
       "76                                       Nice product\n",
       "77                                              Ok ok\n",
       "78                                               Good\n",
       "79                            Panty Size Is Too Short\n",
       "\n",
       "[80 rows x 1 columns]"
      ]
     },
     "execution_count": 119,
     "metadata": {},
     "output_type": "execute_result"
    }
   ],
   "source": [
    "dff"
   ]
  },
  {
   "cell_type": "markdown",
   "id": "a3df4c65-f2bd-4331-9e9e-0d18911588a9",
   "metadata": {},
   "source": [
    "# Part-2 : Check the sentiment of the reviews fetched in part 1 "
   ]
  },
  {
   "cell_type": "code",
   "execution_count": 49,
   "id": "142dcfc1-398e-43ce-ac56-598a91712d2e",
   "metadata": {},
   "outputs": [],
   "source": [
    "from nltk.sentiment.vader import SentimentIntensityAnalyzer\n",
    "import nltk"
   ]
  },
  {
   "cell_type": "markdown",
   "id": "5c608f73-c162-4ea4-b040-e6bc95e989ff",
   "metadata": {},
   "source": [
    "# The Sentiment_model function is replaced my the actual traied LSTM model "
   ]
  },
  {
   "cell_type": "code",
   "execution_count": 52,
   "id": "868684d0-786a-491f-b949-bdf82cf9732d",
   "metadata": {},
   "outputs": [],
   "source": [
    "def sentiment_model(text):\n",
    "    sia = SentimentIntensityAnalyzer()\n",
    "    over_all_polarity = sia.polarity_scores(text)\n",
    "    if over_all_polarity['compound'] >= 0.05:\n",
    "        return \"positive\"\n",
    "    elif over_all_polarity['compound'] <= -0.05:\n",
    "        return \"negative\"\n",
    "    else:\n",
    "        return \"neutral\""
   ]
  },
  {
   "cell_type": "markdown",
   "id": "04d581e9-3a28-4234-ba3a-fb78a8a021de",
   "metadata": {},
   "source": [
    "# This is the Function use in actual backend for check the polarity of the reviews"
   ]
  },
  {
   "cell_type": "code",
   "execution_count": 55,
   "id": "c845c546-8c76-4f5d-b72d-6a6b67905b16",
   "metadata": {},
   "outputs": [],
   "source": [
    "def Check_sentiment(df):\n",
    "    df_with_polarity = df.copy()\n",
    "    df_with_polarity['sentiment'] = df_with_polarity['review'].apply(sentiment_model)\n",
    "    return df_with_polarity"
   ]
  },
  {
   "cell_type": "code",
   "execution_count": 121,
   "id": "b5aa00a3-e370-4774-82e2-bdaad116d9b2",
   "metadata": {},
   "outputs": [],
   "source": [
    "final_df = Check_sentiment(dff)"
   ]
  },
  {
   "cell_type": "code",
   "execution_count": 123,
   "id": "5ccbaee7-7dab-425f-a3c0-4cfe92bcc5d3",
   "metadata": {},
   "outputs": [
    {
     "data": {
      "text/html": [
       "<div>\n",
       "<style scoped>\n",
       "    .dataframe tbody tr th:only-of-type {\n",
       "        vertical-align: middle;\n",
       "    }\n",
       "\n",
       "    .dataframe tbody tr th {\n",
       "        vertical-align: top;\n",
       "    }\n",
       "\n",
       "    .dataframe thead th {\n",
       "        text-align: right;\n",
       "    }\n",
       "</style>\n",
       "<table border=\"1\" class=\"dataframe\">\n",
       "  <thead>\n",
       "    <tr style=\"text-align: right;\">\n",
       "      <th></th>\n",
       "      <th>review</th>\n",
       "      <th>sentiment</th>\n",
       "    </tr>\n",
       "  </thead>\n",
       "  <tbody>\n",
       "    <tr>\n",
       "      <th>0</th>\n",
       "      <td>Nice pic 😍☺️</td>\n",
       "      <td>positive</td>\n",
       "    </tr>\n",
       "    <tr>\n",
       "      <th>1</th>\n",
       "      <td>Absolutely made gorgeous, my jiju loves me in it.</td>\n",
       "      <td>positive</td>\n",
       "    </tr>\n",
       "    <tr>\n",
       "      <th>2</th>\n",
       "      <td>Good product</td>\n",
       "      <td>positive</td>\n",
       "    </tr>\n",
       "    <tr>\n",
       "      <th>3</th>\n",
       "      <td>Awesome product 🔥🔥</td>\n",
       "      <td>positive</td>\n",
       "    </tr>\n",
       "    <tr>\n",
       "      <th>4</th>\n",
       "      <td>Not good.. size and colour is good. Bra qualit...</td>\n",
       "      <td>positive</td>\n",
       "    </tr>\n",
       "    <tr>\n",
       "      <th>...</th>\n",
       "      <td>...</td>\n",
       "      <td>...</td>\n",
       "    </tr>\n",
       "    <tr>\n",
       "      <th>75</th>\n",
       "      <td>Atcha hai but if you have heavy breast then it...</td>\n",
       "      <td>neutral</td>\n",
       "    </tr>\n",
       "    <tr>\n",
       "      <th>76</th>\n",
       "      <td>Nice product</td>\n",
       "      <td>positive</td>\n",
       "    </tr>\n",
       "    <tr>\n",
       "      <th>77</th>\n",
       "      <td>Ok ok</td>\n",
       "      <td>positive</td>\n",
       "    </tr>\n",
       "    <tr>\n",
       "      <th>78</th>\n",
       "      <td>Good</td>\n",
       "      <td>positive</td>\n",
       "    </tr>\n",
       "    <tr>\n",
       "      <th>79</th>\n",
       "      <td>Panty Size Is Too Short</td>\n",
       "      <td>neutral</td>\n",
       "    </tr>\n",
       "  </tbody>\n",
       "</table>\n",
       "<p>80 rows × 2 columns</p>\n",
       "</div>"
      ],
      "text/plain": [
       "                                               review sentiment\n",
       "0                                        Nice pic 😍☺️  positive\n",
       "1   Absolutely made gorgeous, my jiju loves me in it.  positive\n",
       "2                                        Good product  positive\n",
       "3                                  Awesome product 🔥🔥  positive\n",
       "4   Not good.. size and colour is good. Bra qualit...  positive\n",
       "..                                                ...       ...\n",
       "75  Atcha hai but if you have heavy breast then it...   neutral\n",
       "76                                       Nice product  positive\n",
       "77                                              Ok ok  positive\n",
       "78                                               Good  positive\n",
       "79                            Panty Size Is Too Short   neutral\n",
       "\n",
       "[80 rows x 2 columns]"
      ]
     },
     "execution_count": 123,
     "metadata": {},
     "output_type": "execute_result"
    }
   ],
   "source": [
    "final_df"
   ]
  },
  {
   "cell_type": "code",
   "execution_count": 125,
   "id": "b633a6da-afbe-48d6-890f-036cc170d9f3",
   "metadata": {},
   "outputs": [
    {
     "data": {
      "text/plain": [
       "sentiment\n",
       "positive    59\n",
       "negative    15\n",
       "neutral      6\n",
       "Name: count, dtype: int64"
      ]
     },
     "execution_count": 125,
     "metadata": {},
     "output_type": "execute_result"
    }
   ],
   "source": [
    "final_df['sentiment'].value_counts()"
   ]
  },
  {
   "cell_type": "code",
   "execution_count": null,
   "id": "ae3dd291-d91e-4136-a98d-90b440977abb",
   "metadata": {},
   "outputs": [],
   "source": []
  }
 ],
 "metadata": {
  "kernelspec": {
   "display_name": "Python [conda env:base] *",
   "language": "python",
   "name": "conda-base-py"
  },
  "language_info": {
   "codemirror_mode": {
    "name": "ipython",
    "version": 3
   },
   "file_extension": ".py",
   "mimetype": "text/x-python",
   "name": "python",
   "nbconvert_exporter": "python",
   "pygments_lexer": "ipython3",
   "version": "3.12.7"
  }
 },
 "nbformat": 4,
 "nbformat_minor": 5
}

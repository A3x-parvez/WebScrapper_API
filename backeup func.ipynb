{
 "cells": [
  {
   "cell_type": "code",
   "execution_count": 1,
   "id": "1c7cbb68-efcd-4cd9-801d-e81a111a4c4b",
   "metadata": {},
   "outputs": [],
   "source": [
    "import requests\n",
    "from bs4 import BeautifulSoup\n",
    "import pandas as pd\n",
    "import re\n",
    "\n",
    "from nltk.sentiment.vader import SentimentIntensityAnalyzer\n",
    "import nltk"
   ]
  },
  {
   "cell_type": "code",
   "execution_count": 3,
   "id": "5f04a5ea-0f6d-4684-87f0-e7c2bb15a319",
   "metadata": {},
   "outputs": [],
   "source": [
    "# def Fetch_Review(url, Type='multiple'):\n",
    "#     try:\n",
    "#         if not isinstance(url, str) or not url.startswith(\"http\"):\n",
    "#             raise ValueError(\"Invalid URL provided.\")\n",
    "\n",
    "#         if Type == 'single':\n",
    "#             df_final = fetch_reviews_single(url)\n",
    "#         elif Type == 'multiple':\n",
    "#             df_final = fetch_reviews_multiple(url)\n",
    "#         else:\n",
    "#             raise ValueError(\"Invalid Type specified. Use 'single' or 'multiple'.\")\n",
    "        \n",
    "#         return df_final\n",
    "\n",
    "#     except ValueError as ve:\n",
    "#         print(f\"ValueError: {ve}\")\n",
    "#         return pd.DataFrame()  # Return an empty DataFrame in case of errors\n",
    "\n",
    "#     except Exception as e:\n",
    "#         print(f\"An unexpected error occurred: {e}\")\n",
    "#         return pd.DataFrame()  # Return an empty DataFrame for unexpected errors"
   ]
  },
  {
   "cell_type": "code",
   "execution_count": 5,
   "id": "76e7d8a5-4bc4-4faa-a0f7-5e53e44a0325",
   "metadata": {},
   "outputs": [],
   "source": [
    "# #only accepted direct review link\n",
    "# def Fetch_Review(url, Type='multiple'):\n",
    "#     try:\n",
    "#         if not isinstance(url, str) or not url.startswith(\"https://www.flipkart.com/\"):\n",
    "#             raise ValueError(\"Invalid URL: Must be a valid Flipkart link.\")\n",
    "\n",
    "#         # Ensure the URL follows the exact product review format\n",
    "#         pattern = r\"^https://www\\.flipkart\\.com/[^/]+/product-reviews/[^/?]+(\\?.*)?$\"\n",
    "#         if not re.match(pattern, url):\n",
    "#             raise ValueError(\"Invalid URL: Only Flipkart product review links are allowed.\")\n",
    "\n",
    "#         if Type == 'single':\n",
    "#             df_final = fetch_reviews_single(url)\n",
    "#         elif Type == 'multiple':\n",
    "#             df_final = fetch_reviews_multiple(url)\n",
    "#         else:\n",
    "#             raise ValueError(\"Invalid Type specified. Use 'single' or 'multiple'.\")\n",
    "\n",
    "#         return df_final\n",
    "\n",
    "#     except ValueError as ve:\n",
    "#         print(f\"ValueError: {ve}\")\n",
    "#         return pd.DataFrame()\n",
    "\n",
    "#     except Exception as e:\n",
    "#         print(f\"An unexpected error occurred: {e}\")\n",
    "#         return pd.DataFrame()\n"
   ]
  },
  {
   "cell_type": "code",
   "execution_count": null,
   "id": "baffc75c-7e53-47b8-afae-beb359df3dc9",
   "metadata": {},
   "outputs": [],
   "source": []
  }
 ],
 "metadata": {
  "kernelspec": {
   "display_name": "Python [conda env:base] *",
   "language": "python",
   "name": "conda-base-py"
  },
  "language_info": {
   "codemirror_mode": {
    "name": "ipython",
    "version": 3
   },
   "file_extension": ".py",
   "mimetype": "text/x-python",
   "name": "python",
   "nbconvert_exporter": "python",
   "pygments_lexer": "ipython3",
   "version": "3.12.7"
  }
 },
 "nbformat": 4,
 "nbformat_minor": 5
}
